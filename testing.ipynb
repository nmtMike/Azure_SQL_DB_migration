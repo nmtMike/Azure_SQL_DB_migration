{
 "cells": [
  {
   "cell_type": "code",
   "execution_count": 1,
   "metadata": {},
   "outputs": [],
   "source": [
    "# _____________ read from SQLite and write to Azure\n",
    "# connect to current source SQLite\n",
    "import sqlite3\n",
    "import pandas as pd\n",
    "conn = sqlite3.connect(r\"C:\\Users\\admin\\Desktop\\Temp\\VTA_RM - testing.db\")\n",
    "c = conn.cursor()"
   ]
  },
  {
   "cell_type": "code",
   "execution_count": 74,
   "metadata": {},
   "outputs": [],
   "source": [
    "total_market_price = pd.read_sql_query('SELECT * FROM total_market_price', conn)\n",
    "total_market_price['departure_datetime'] = pd.to_datetime(total_market_price['departure_datetime'])\n",
    "total_market_price['pricing_date'] = pd.to_datetime(total_market_price['pricing_date'])\n",
    "total_market_price['modified_time'] = pd.to_datetime(total_market_price['modified_time'])"
   ]
  },
  {
   "cell_type": "code",
   "execution_count": 75,
   "metadata": {},
   "outputs": [
    {
     "name": "stdout",
     "output_type": "stream",
     "text": [
      "<class 'pandas.core.frame.DataFrame'>\n",
      "RangeIndex: 29379 entries, 0 to 29378\n",
      "Data columns (total 10 columns):\n",
      " #   Column              Non-Null Count  Dtype         \n",
      "---  ------              --------------  -----         \n",
      " 0   name                29379 non-null  object        \n",
      " 1   bag                 29379 non-null  int64         \n",
      " 2   meal                29379 non-null  int64         \n",
      " 3   adjusted_price      29379 non-null  int64         \n",
      " 4   sector              29379 non-null  object        \n",
      " 5   departure_datetime  29379 non-null  datetime64[ns]\n",
      " 6   pricing_date        29379 non-null  datetime64[ns]\n",
      " 7   file_name           29379 non-null  object        \n",
      " 8   modified_time       29379 non-null  datetime64[ns]\n",
      " 9   type                29379 non-null  object        \n",
      "dtypes: datetime64[ns](3), int64(3), object(4)\n",
      "memory usage: 2.2+ MB\n"
     ]
    }
   ],
   "source": [
    "total_market_price.info()"
   ]
  },
  {
   "cell_type": "code",
   "execution_count": 76,
   "metadata": {},
   "outputs": [
    {
     "data": {
      "text/html": [
       "<div>\n",
       "<style scoped>\n",
       "    .dataframe tbody tr th:only-of-type {\n",
       "        vertical-align: middle;\n",
       "    }\n",
       "\n",
       "    .dataframe tbody tr th {\n",
       "        vertical-align: top;\n",
       "    }\n",
       "\n",
       "    .dataframe thead th {\n",
       "        text-align: right;\n",
       "    }\n",
       "</style>\n",
       "<table border=\"1\" class=\"dataframe\">\n",
       "  <thead>\n",
       "    <tr style=\"text-align: right;\">\n",
       "      <th></th>\n",
       "      <th>name</th>\n",
       "      <th>bag</th>\n",
       "      <th>meal</th>\n",
       "      <th>adjusted_price</th>\n",
       "      <th>sector</th>\n",
       "      <th>departure_datetime</th>\n",
       "      <th>pricing_date</th>\n",
       "      <th>file_name</th>\n",
       "      <th>modified_time</th>\n",
       "      <th>type</th>\n",
       "    </tr>\n",
       "  </thead>\n",
       "  <tbody>\n",
       "    <tr>\n",
       "      <th>0</th>\n",
       "      <td>VU638</td>\n",
       "      <td>0</td>\n",
       "      <td>1</td>\n",
       "      <td>58000</td>\n",
       "      <td>DAD-HAN</td>\n",
       "      <td>2022-09-22 14:30:00</td>\n",
       "      <td>2022-09-21 15:10:00</td>\n",
       "      <td>priceDa_Nang-Ha_Noi20220922.csv</td>\n",
       "      <td>2022-09-21 15:17:48.417451</td>\n",
       "      <td>normal</td>\n",
       "    </tr>\n",
       "    <tr>\n",
       "      <th>1</th>\n",
       "      <td>VU658</td>\n",
       "      <td>0</td>\n",
       "      <td>1</td>\n",
       "      <td>58000</td>\n",
       "      <td>DAD-HAN</td>\n",
       "      <td>2022-09-22 19:00:00</td>\n",
       "      <td>2022-09-21 15:10:00</td>\n",
       "      <td>priceDa_Nang-Ha_Noi20220922.csv</td>\n",
       "      <td>2022-09-21 15:17:48.417451</td>\n",
       "      <td>normal</td>\n",
       "    </tr>\n",
       "    <tr>\n",
       "      <th>2</th>\n",
       "      <td>VJ524</td>\n",
       "      <td>0</td>\n",
       "      <td>0</td>\n",
       "      <td>149000</td>\n",
       "      <td>DAD-HAN</td>\n",
       "      <td>2022-09-22 13:35:00</td>\n",
       "      <td>2022-09-21 15:10:00</td>\n",
       "      <td>priceDa_Nang-Ha_Noi20220922.csv</td>\n",
       "      <td>2022-09-21 15:17:48.417451</td>\n",
       "      <td>normal</td>\n",
       "    </tr>\n",
       "    <tr>\n",
       "      <th>3</th>\n",
       "      <td>VJ522</td>\n",
       "      <td>0</td>\n",
       "      <td>0</td>\n",
       "      <td>149000</td>\n",
       "      <td>DAD-HAN</td>\n",
       "      <td>2022-09-22 16:45:00</td>\n",
       "      <td>2022-09-21 15:10:00</td>\n",
       "      <td>priceDa_Nang-Ha_Noi20220922.csv</td>\n",
       "      <td>2022-09-21 15:17:48.417451</td>\n",
       "      <td>normal</td>\n",
       "    </tr>\n",
       "    <tr>\n",
       "      <th>4</th>\n",
       "      <td>VJ514</td>\n",
       "      <td>0</td>\n",
       "      <td>0</td>\n",
       "      <td>149000</td>\n",
       "      <td>DAD-HAN</td>\n",
       "      <td>2022-09-22 19:25:00</td>\n",
       "      <td>2022-09-21 15:10:00</td>\n",
       "      <td>priceDa_Nang-Ha_Noi20220922.csv</td>\n",
       "      <td>2022-09-21 15:17:48.417451</td>\n",
       "      <td>normal</td>\n",
       "    </tr>\n",
       "  </tbody>\n",
       "</table>\n",
       "</div>"
      ],
      "text/plain": [
       "    name  bag  meal  adjusted_price   sector  departure_datetime  \\\n",
       "0  VU638    0     1           58000  DAD-HAN 2022-09-22 14:30:00   \n",
       "1  VU658    0     1           58000  DAD-HAN 2022-09-22 19:00:00   \n",
       "2  VJ524    0     0          149000  DAD-HAN 2022-09-22 13:35:00   \n",
       "3  VJ522    0     0          149000  DAD-HAN 2022-09-22 16:45:00   \n",
       "4  VJ514    0     0          149000  DAD-HAN 2022-09-22 19:25:00   \n",
       "\n",
       "         pricing_date                        file_name  \\\n",
       "0 2022-09-21 15:10:00  priceDa_Nang-Ha_Noi20220922.csv   \n",
       "1 2022-09-21 15:10:00  priceDa_Nang-Ha_Noi20220922.csv   \n",
       "2 2022-09-21 15:10:00  priceDa_Nang-Ha_Noi20220922.csv   \n",
       "3 2022-09-21 15:10:00  priceDa_Nang-Ha_Noi20220922.csv   \n",
       "4 2022-09-21 15:10:00  priceDa_Nang-Ha_Noi20220922.csv   \n",
       "\n",
       "               modified_time    type  \n",
       "0 2022-09-21 15:17:48.417451  normal  \n",
       "1 2022-09-21 15:17:48.417451  normal  \n",
       "2 2022-09-21 15:17:48.417451  normal  \n",
       "3 2022-09-21 15:17:48.417451  normal  \n",
       "4 2022-09-21 15:17:48.417451  normal  "
      ]
     },
     "execution_count": 76,
     "metadata": {},
     "output_type": "execute_result"
    }
   ],
   "source": [
    "total_market_price.head()"
   ]
  },
  {
   "cell_type": "code",
   "execution_count": 1,
   "metadata": {},
   "outputs": [
    {
     "data": {
      "text/plain": [
       "-1"
      ]
     },
     "execution_count": 1,
     "metadata": {},
     "output_type": "execute_result"
    }
   ],
   "source": [
    "# import and create connection to Azure SQL Database\n",
    "import urllib\n",
    "import pandas as pd\n",
    "from sqlalchemy import create_engine, inspect, MetaData, Table, Column, Integer, String, Date, Float, DateTime\n",
    "\n",
    "az_db_driver = \"{ODBC Driver 17 for SQL Server}\"\n",
    "az_db_server = \"vta-server.database.windows.net\"\n",
    "az_db_database = \"vta-prm-database\"\n",
    "az_db_user = \"vtaadmin\"\n",
    "az_db_password = \"PRM@vta2022\"\n",
    "\n",
    "az_db_string = f\"\"\"Driver={az_db_driver};Server=tcp:{az_db_server},1433;Database={az_db_database};\n",
    "Uid={az_db_user};Pwd={az_db_password};Encrypt=yes;TrustServerCertificate=no;Connection Timeout=30;\"\"\"\n",
    "\n",
    "az_db_params = urllib.parse.quote_plus(az_db_string)\n",
    "az_db_conn_str = 'mssql+pyodbc:///?autocommit=true&odbc_connect={}'.format(az_db_params)\n",
    "az_db_engine = create_engine(az_db_conn_str)\n",
    "az_db_conn = az_db_engine.connect()\n",
    "\n",
    "\n",
    "import sqlite3\n",
    "conn = sqlite3.connect(r\"D:\\NMT\\OneDrive\\Viettravel Airline\\Database\\VTA_RM.db\")\n",
    "c = conn.cursor()\n",
    "\n",
    "\n",
    "cargo = pd.read_sql_query('SELECT * FROM cargo', conn)\n",
    "cargo['flight_date'] = pd.to_datetime(cargo['flight_date'])\n",
    "cargo['modified_time'] = pd.to_datetime(cargo['modified_time'])\n",
    "cargo.to_sql('cargo', az_db_conn, if_exists='replace', index=False)"
   ]
  },
  {
   "cell_type": "code",
   "execution_count": 2,
   "metadata": {},
   "outputs": [],
   "source": [
    "# total_market_price\n",
    "total_market_price = pd.read_sql_query('SELECT * FROM total_market_price', conn)\n",
    "total_market_price['departure_datetime'] = pd.to_datetime(total_market_price['departure_datetime'])\n",
    "total_market_price['pricing_date'] = pd.to_datetime(total_market_price['pricing_date'])\n",
    "total_market_price['modified_time'] = pd.to_datetime(total_market_price['modified_time'])\n",
    "total_market_price.to_sql('total_market_price', az_db_conn, if_exists='replace', index=False)\n",
    "print('total_market_price -> done')"
   ]
  }
 ],
 "metadata": {
  "kernelspec": {
   "display_name": "Python 3.9.12 ('VTA_RM')",
   "language": "python",
   "name": "python3"
  },
  "language_info": {
   "codemirror_mode": {
    "name": "ipython",
    "version": 3
   },
   "file_extension": ".py",
   "mimetype": "text/x-python",
   "name": "python",
   "nbconvert_exporter": "python",
   "pygments_lexer": "ipython3",
   "version": "3.9.12"
  },
  "orig_nbformat": 4,
  "vscode": {
   "interpreter": {
    "hash": "4b9e384aec62ae57b5f76b26318facd26f7d8e2315f3809fc741dc47f714fdba"
   }
  }
 },
 "nbformat": 4,
 "nbformat_minor": 2
}
