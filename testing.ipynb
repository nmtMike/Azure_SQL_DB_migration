{
 "cells": [
  {
   "cell_type": "code",
   "execution_count": 1,
   "metadata": {},
   "outputs": [],
   "source": [
    "# _____________ read from SQLite and write to Azure\n",
    "# connect to current source SQLite\n",
    "import sqlite3\n",
    "# import os\n",
    "# import datetime\n",
    "# import tqdm\n",
    "# import glob\n",
    "import pandas as pd\n",
    "conn = sqlite3.connect(r\"D:\\NMT\\OneDrive\\Viettravel Airline\\Database\\VTA_RM.db\")\n",
    "c = conn.cursor()"
   ]
  },
  {
   "cell_type": "code",
   "execution_count": 41,
   "metadata": {},
   "outputs": [],
   "source": [
    "def delete_rows_SQL(table, file_mame):\n",
    "    query = f\"\"\"\n",
    "        DELETE FROM {table}\n",
    "            WHERE file_name = '{file_mame}'\n",
    "        \"\"\"\n",
    "    c.execute(query)\n",
    "\n",
    "def delete_rows_cmd(row):\n",
    "    delete_rows_SQL(row['table_name'], row['file_name'])\n",
    "\n",
    "\n",
    "def file_name_modified(path:str):\n",
    "    all_dir_files = glob.glob(path + '/*')\n",
    "    files = pd.DataFrame()\n",
    "    m_time = []\n",
    "\n",
    "    for dir_file in all_dir_files:\n",
    "        # file modification timestamp of a file\n",
    "        f_m_time = os.path.getmtime(dir_file)\n",
    "        # convert timestamp into DateTime object\n",
    "        f_dt_m = datetime.datetime.fromtimestamp(f_m_time)\n",
    "        m_time += [f_dt_m]\n",
    "\n",
    "    files_name = pd.Series(all_dir_files).str.split('\\\\', expand=True).iloc[:, -1]\n",
    "    table_name = pd.Series(all_dir_files).str.split('\\\\', expand=True).iloc[:, -2]\n",
    "    return pd.DataFrame({'file_name':files_name, 'modified_time':m_time,\n",
    "                         'table_name':table_name, 'dir_file':all_dir_files})"
   ]
  },
  {
   "cell_type": "code",
   "execution_count": 3,
   "metadata": {},
   "outputs": [],
   "source": [
    "query = \"\"\"\n",
    "WITH confirm_pax AS(\n",
    "    SELECT confirm, COUNT(*) AS pax\n",
    "        FROM reservation\n",
    "        GROUP BY confirm),\n",
    "    confirm_amount AS(\n",
    "    SELECT confirmation_num AS confirm, date_paid_lcl, SUM(rpt_amount) AS total_amount\n",
    "        FROM payment_detail\n",
    "        GROUP BY confirmation_num)\n",
    "        \n",
    "        \n",
    "SELECT *\n",
    "    FROM confirm_amount\n",
    "    LEFT JOIN confirm_pax USING(confirm)\n",
    "    WHERE date_paid_lcl >= '2022-09-01'\n",
    "\n",
    "\"\"\"\n",
    "\n",
    "pd.read_sql_query(query, conn).to_excel('aaa.xlsx', index=False)"
   ]
  },
  {
   "cell_type": "code",
   "execution_count": 5,
   "metadata": {},
   "outputs": [],
   "source": [
    "query = \"\"\"\n",
    "WITH payment_agentcode AS(\n",
    "    SELECT confirmation_num AS confirm, strftime('%Y-%m-%d' , DATE_PAID_LCL) AS Paid_Date, strftime('%H:%M:%S' , DATE_PAID_LCL) AS Paid_Time, RPT_AMOUNT,\n",
    "            COALESCE(IATA_NUM, USER_ID, BOOKING_AGENT) AS ori_agent_code\n",
    "        FROM payment_detail\n",
    "        WHERE TRANS_STATUS = 'Approved'),\n",
    "        confirm_pax AS(\n",
    "    SELECT confirm, COUNT(*) AS pax\n",
    "        FROM reservation\n",
    "        GROUP BY confirm)\n",
    "\n",
    "SELECT confirm, Paid_Date, rpt_amount, da.no AS Agent_code, channel, agent, pax\n",
    "    FROM payment_agentcode pa\n",
    "    LEFT JOIN dim_agent da\n",
    "        ON pa.ori_agent_code = da.AG_Code\n",
    "    LEFT JOIN confirm_pax USING(confirm)\n",
    "    WHERE Paid_Date >= '2022-09-01'\n",
    "\"\"\"\n",
    "\n",
    "pd.read_sql_query(query, conn).to_excel('by_agent.xlsx', index=False)"
   ]
  },
  {
   "cell_type": "code",
   "execution_count": 6,
   "metadata": {},
   "outputs": [],
   "source": [
    "query = \"\"\"\n",
    "WITH payment_agentcode AS(\n",
    "    SELECT confirmation_num AS confirm, strftime('%Y-%m-%d' , DATE_PAID_LCL) AS Paid_Date, RPT_AMOUNT,\n",
    "            COALESCE(IATA_NUM, USER_ID, BOOKING_AGENT) AS ori_agent_code\n",
    "        FROM payment_detail\n",
    "        WHERE TRANS_STATUS = 'Approved')\n",
    "        \n",
    "SELECT confirm, paid_date, rpt_amount, channel, agent\n",
    "    FROM payment_agentcode\n",
    "    LEFT JOIN dim_agent da\n",
    "        ON ori_agent_code = da.AG_Code\n",
    "    WHERE Paid_Date >= '2022-09-01'\n",
    "\"\"\"\n",
    "\n",
    "pd.read_sql_query(query, conn).to_excel('by_agent.xlsx', index=False)"
   ]
  }
 ],
 "metadata": {
  "kernelspec": {
   "display_name": "Python 3.9.12 ('VTA_RM')",
   "language": "python",
   "name": "python3"
  },
  "language_info": {
   "codemirror_mode": {
    "name": "ipython",
    "version": 3
   },
   "file_extension": ".py",
   "mimetype": "text/x-python",
   "name": "python",
   "nbconvert_exporter": "python",
   "pygments_lexer": "ipython3",
   "version": "3.9.12"
  },
  "orig_nbformat": 4,
  "vscode": {
   "interpreter": {
    "hash": "4b9e384aec62ae57b5f76b26318facd26f7d8e2315f3809fc741dc47f714fdba"
   }
  }
 },
 "nbformat": 4,
 "nbformat_minor": 2
}
