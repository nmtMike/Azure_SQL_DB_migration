{
 "cells": [
  {
   "cell_type": "code",
   "execution_count": 1,
   "metadata": {},
   "outputs": [],
   "source": [
    "# _____________ read from SQLite and write to Azure\n",
    "# connect to current source SQLite\n",
    "import sqlite3\n",
    "import pandas as pd\n",
    "conn = sqlite3.connect(r\"C:\\Users\\admin\\Desktop\\Temp\\VTA_RM_zzz.db\")\n",
    "c = conn.cursor()"
   ]
  }
 ],
 "metadata": {
  "kernelspec": {
   "display_name": "Python 3.9.12 ('VTA_RM')",
   "language": "python",
   "name": "python3"
  },
  "language_info": {
   "codemirror_mode": {
    "name": "ipython",
    "version": 3
   },
   "file_extension": ".py",
   "mimetype": "text/x-python",
   "name": "python",
   "nbconvert_exporter": "python",
   "pygments_lexer": "ipython3",
   "version": "3.9.12"
  },
  "orig_nbformat": 4,
  "vscode": {
   "interpreter": {
    "hash": "4b9e384aec62ae57b5f76b26318facd26f7d8e2315f3809fc741dc47f714fdba"
   }
  }
 },
 "nbformat": 4,
 "nbformat_minor": 2
}
